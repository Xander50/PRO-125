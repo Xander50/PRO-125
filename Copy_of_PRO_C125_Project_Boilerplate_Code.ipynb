{
  "nbformat": 4,
  "nbformat_minor": 0,
  "metadata": {
    "colab": {
      "provenance": [],
      "include_colab_link": true
    },
    "kernelspec": {
      "name": "python3",
      "display_name": "Python 3"
    },
    "language_info": {
      "name": "python"
    }
  },
  "cells": [
    {
      "cell_type": "markdown",
      "metadata": {
        "id": "view-in-github",
        "colab_type": "text"
      },
      "source": [
        "<a href=\"https://colab.research.google.com/github/Xander50/PRO-125/blob/main/Copy_of_PRO_C125_Project_Boilerplate_Code.ipynb\" target=\"_parent\"><img src=\"https://colab.research.google.com/assets/colab-badge.svg\" alt=\"Open In Colab\"/></a>"
      ]
    },
    {
      "cell_type": "markdown",
      "source": [
        "**Archery-Target** is a game in which the players shoot sharp-pointed arrows at a round target having 10 rings.\n",
        "\n",
        "<img src=\"https://s3-whjr-curriculum-uploads.whjr.online/4de9132a-c71d-42ce-9099-3293e8805fd9.jpg\"> "
      ],
      "metadata": {
        "id": "nUWO5QkC_g-4"
      }
    },
    {
      "cell_type": "markdown",
      "source": [
        "## RL Problem to Solve\n",
        "Hit the center of the target with maximum reward"
      ],
      "metadata": {
        "id": "5QtHLAqv3wP3"
      }
    },
    {
      "cell_type": "markdown",
      "source": [
        "<img src=\"https://s3-whjr-curriculum-uploads.whjr.online/40656a8c-14e2-4dd7-9f9e-4c17669b9182.png\" width=300>\n",
        "\n",
        "\n",
        "Number of **State**: ?\n",
        "\n",
        "Number of **Actions**: ?\n",
        "\n"
      ],
      "metadata": {
        "id": "Osb6FQ74YZtE"
      }
    },
    {
      "cell_type": "code",
      "source": [
        "#import libraries\n",
        "import numpy as np\n",
        "import random"
      ],
      "metadata": {
        "id": "miKQCNS1jtW2"
      },
      "execution_count": null,
      "outputs": []
    },
    {
      "cell_type": "markdown",
      "source": [
        "## Reward Matrix\n",
        "Reward Matrix represents states as rows and actions as columns with respective awards values assigned for a given state and action pair."
      ],
      "metadata": {
        "id": "Ujmi3BO54LfJ"
      }
    },
    {
      "cell_type": "code",
      "source": [
        "#Define reward matrix\n",
        "rewards=np.array([10,9,8,7,6,5,4,3,2,1])\n",
        "print(rewards)"
      ],
      "metadata": {
        "id": "TM8C0P1_j0h8",
        "outputId": "0b9711a6-76a6-4042-8438-f38009cf9ae0",
        "colab": {
          "base_uri": "https://localhost:8080/"
        }
      },
      "execution_count": null,
      "outputs": [
        {
          "output_type": "stream",
          "name": "stdout",
          "text": [
            "[10  9  8  7  6  5  4  3  2  1]\n"
          ]
        }
      ]
    },
    {
      "cell_type": "markdown",
      "source": [
        "## Take Action Randomly"
      ],
      "metadata": {
        "id": "Af-CAmdfkDQY"
      }
    },
    {
      "cell_type": "code",
      "source": [
        "#Define shoot()\n",
        "def shoot():\n",
        "  return np.random.randint(0,10)"
      ],
      "metadata": {
        "id": "MotipYImkFmN"
      },
      "execution_count": null,
      "outputs": []
    },
    {
      "cell_type": "markdown",
      "source": [
        "##Q-matrix\n",
        "\n",
        "**Q-learning** is a reinforcement learning algorithm. Given the current state, it helps to find the best action to be taken by the agent.\n",
        "\n",
        "**Q-matrix** represents reward received after a taking particular action in the current state. Initially, all the elements of the Q-matrix are zeroes.\n"
      ],
      "metadata": {
        "id": "JXKyVT28hHoH"
      }
    },
    {
      "cell_type": "code",
      "source": [
        "#Create Q-matrix\n",
        "q_matrix=np.zeros([10])\n",
        "print(q_matrix)\n"
      ],
      "metadata": {
        "id": "3ks5cRmkkSrH",
        "outputId": "d59bbae3-53a5-4ef9-e17c-33bc81b74302",
        "colab": {
          "base_uri": "https://localhost:8080/"
        }
      },
      "execution_count": null,
      "outputs": [
        {
          "output_type": "stream",
          "name": "stdout",
          "text": [
            "[0. 0. 0. 0. 0. 0. 0. 0. 0. 0.]\n"
          ]
        }
      ]
    },
    {
      "cell_type": "markdown",
      "source": [
        "##Take Action"
      ],
      "metadata": {
        "id": "dZWfKn6wkw6f"
      }
    },
    {
      "cell_type": "code",
      "source": [
        "#Define take_action\n",
        "\n",
        "def take_action(reward_matrix):\n",
        "  \n",
        "     #Call the shoot() function to get the action\n",
        "      ring_index=shoot()\n",
        "     #Print the action\n",
        "      print(ring_index)\n",
        "     #Get the corresponding reward using Reward matrix\n",
        "      reward=reward_matrix[ring_index]\n",
        "     #Print reward\n",
        "      print(reward)\n",
        "      action=ring_index\n",
        "      return action, reward\n",
        "\n",
        "action,reward=take_action(rewards)"
      ],
      "metadata": {
        "id": "BuLjlxo4kIhU",
        "outputId": "bd5614af-f98d-40fd-b2f5-84a400ec0ea5",
        "colab": {
          "base_uri": "https://localhost:8080/"
        }
      },
      "execution_count": null,
      "outputs": [
        {
          "output_type": "stream",
          "name": "stdout",
          "text": [
            "3\n",
            "7\n"
          ]
        }
      ]
    }
  ]
}